{
 "cells": [
  {
   "cell_type": "code",
   "execution_count": null,
   "metadata": {},
   "outputs": [],
   "source": [
    "from trulens_eval import Tru\n",
    "from trulens_eval.tru_custom_app import instrument\n",
    "tru = Tru()"
   ]
  },
  {
   "cell_type": "code",
   "execution_count": null,
   "metadata": {},
   "outputs": [],
   "source": [
    "import requests\n",
    "from pydantic import BaseModel\n",
    "\n",
    "class RAG_from_scratch:\n",
    "    @instrument\n",
    "    def query(self, query: str) -> str:\n",
    "        res = requests.post(\"http://localhost:8000/process_query_async\", json={\n",
    "            \"query\": query\n",
    "        })\n",
    "        res_data = res.json()\n",
    "        return res_data[\"body\"]\n",
    "\n",
    "rag = RAG_from_scratch()"
   ]
  },
  {
   "cell_type": "code",
   "execution_count": null,
   "metadata": {},
   "outputs": [],
   "source": [
    "from trulens_eval import Feedback, Select\n",
    "from trulens_eval.feedback import Groundedness\n",
    "from trulens_eval.feedback.provider.openai import OpenAI\n",
    "\n",
    "import numpy as np\n",
    "\n",
    "provider = OpenAI(model_engine=\"gpt-4-0125-preview\")\n",
    "\n",
    "# Question/answer relevance between overall question and answer.\n",
    "f_answer_relevance = (\n",
    "    Feedback(provider.relevance_with_cot_reasons, name = \"Answer Relevance\")\n",
    "    .on(Select.RecordCalls.query.args.query)\n",
    "    .on_output()\n",
    ")"
   ]
  },
  {
   "cell_type": "code",
   "execution_count": null,
   "metadata": {},
   "outputs": [],
   "source": [
    "from trulens_eval import TruCustomApp\n",
    "tru_rag = TruCustomApp(rag,\n",
    "    app_id = 'RAG v1',\n",
    "    feedbacks = [f_answer_relevance])"
   ]
  },
  {
   "cell_type": "code",
   "execution_count": null,
   "metadata": {},
   "outputs": [],
   "source": [
    "from tqdm.notebook import tqdm\n",
    "\n",
    "test_questions = [\n",
    "    \"What is a liquidity pool and how can banks deceive investors through cryptocurrency volatility?\",\n",
    "    \"Which altcoin seems to have the least correlation with Bitcoin's movements? Analyze its growth\",\n",
    "    \"What has been the best-performing index or mutual fund over the last 10 years?\",\n",
    "    \"I want to build a portfolio for this month. What stocks are predicted to grow according to experts?\",\n",
    "    \"Who is Michael Burry?\",\n",
    "    \"hello!\",\n",
    "    \"what are the latest news regarding AAPL?\",\n",
    "    \"I want to invest in the healthcare sector. Please provide an overview of the sector and some of the most interesting companies\",\n",
    "    \"Who are you?\",\n",
    "    \"What are the price targets for TSLA according to experts?\"\n",
    "]\n",
    "\n",
    "with tru_rag as recording:\n",
    "    for query in tqdm(test_questions):\n",
    "        rag.query(query)"
   ]
  },
  {
   "cell_type": "code",
   "execution_count": null,
   "metadata": {},
   "outputs": [],
   "source": [
    "tru.get_leaderboard(app_ids=[\"RAG v1\"])"
   ]
  },
  {
   "cell_type": "code",
   "execution_count": null,
   "metadata": {},
   "outputs": [],
   "source": [
    "tru.run_dashboard()"
   ]
  },
  {
   "cell_type": "code",
   "execution_count": null,
   "metadata": {},
   "outputs": [],
   "source": [
    "tru.stop_dashboard()"
   ]
  }
 ],
 "metadata": {
  "kernelspec": {
   "display_name": "api",
   "language": "python",
   "name": "python3"
  },
  "language_info": {
   "codemirror_mode": {
    "name": "ipython",
    "version": 3
   },
   "file_extension": ".py",
   "mimetype": "text/x-python",
   "name": "python",
   "nbconvert_exporter": "python",
   "pygments_lexer": "ipython3",
   "version": "3.10.9"
  }
 },
 "nbformat": 4,
 "nbformat_minor": 2
}
